{
 "cells": [
  {
   "cell_type": "code",
   "execution_count": null,
   "source": [
    "import umap\r\n",
    "import numpy as np\r\n",
    "import scipy as sci\r\n",
    "import matplotlib.pyplot as plt\r\n",
    "import scipy.spatial.distance as dist\r\n",
    "import plotly.graph_objects as go\r\n",
    "import plotly.express as px\r\n",
    "import pandas as pd\r\n",
    "from scipy.interpolate import interp1d"
   ],
   "outputs": [],
   "metadata": {}
  },
  {
   "cell_type": "code",
   "execution_count": null,
   "source": [
    "n_obs_per_cluster = 100"
   ],
   "outputs": [],
   "metadata": {}
  },
  {
   "cell_type": "code",
   "execution_count": null,
   "source": [
    "# utility functions\r\n",
    "\r\n",
    "def create_clustered_data(p1, p2, n_obs_per_cluster):\r\n",
    "    c1 = np.random.binomial(n = 1, p = p1, size = (n_obs_per_cluster, 8))\r\n",
    "    c2 = np.random.binomial(n = 1, p = p2, size = (n_obs_per_cluster, 8))\r\n",
    "    x1 = np.concatenate((c1, c2), axis = 0)\r\n",
    "    return x1\r\n",
    "\r\n",
    "def axis_bounds(embedding):\r\n",
    "    \r\n",
    "    left, right = embedding.T[0].min(), embedding.T[0].max()\r\n",
    "    bottom, top = embedding.T[1].min(), embedding.T[1].max()\r\n",
    "    adj_h, adj_v = (right - left) * 0.1, (top - bottom) * 0.1\r\n",
    "    return [left - adj_h, right + adj_h, bottom - adj_v, top + adj_v]"
   ],
   "outputs": [],
   "metadata": {}
  },
  {
   "cell_type": "code",
   "execution_count": null,
   "source": [
    "n_slices = 10\r\n",
    "\r\n",
    "# create some fake slices of data, where symptoms EFGH become more pronounced in cluster 1 over the slices\r\n",
    "slice_list = [\r\n",
    "    create_clustered_data(\r\n",
    "        p1 = np.array([.4, .3, .4, .35, .1, .2, .05, .1]) + np.array([0, 0, 0, 0, .5, .5, .5, .5]) * i / n_slices,\r\n",
    "        p2 = np.array([.1, .05, .1, .15, .5, .6, .45, .35]),\r\n",
    "        n_obs_per_cluster=n_obs_per_cluster)\r\n",
    "    for i in range(n_slices)\r\n",
    "]"
   ],
   "outputs": [],
   "metadata": {}
  },
  {
   "cell_type": "code",
   "execution_count": null,
   "source": [
    "# compute the jaccard distance matrices for each slice\r\n",
    "distance_matrix_list = [\r\n",
    "    dist.squareform(dist.pdist(slice.transpose(), metric = 'jaccard'))\r\n",
    "    for slice in slice_list\r\n",
    "]"
   ],
   "outputs": [],
   "metadata": {}
  },
  {
   "cell_type": "code",
   "execution_count": null,
   "source": [
    "# create a relationship dictionary\r\n",
    "relationship_dict = {i:i for i in range(8 - 1)}\r\n",
    "relationships = [relationship_dict.copy() for i in range(n_slices - 1)]"
   ],
   "outputs": [],
   "metadata": {}
  },
  {
   "cell_type": "code",
   "execution_count": null,
   "source": [
    "%%time\r\n",
    "aligned_mapper = umap.AlignedUMAP(\r\n",
    "    n_neighbors=3,\r\n",
    "    min_dist = 0.1,\r\n",
    "    n_components = 2,\r\n",
    "    metric='euclidean')\r\n",
    "\r\n",
    "aligned_mapper.fit(distance_matrix_list, relations = relationships)"
   ],
   "outputs": [],
   "metadata": {}
  },
  {
   "cell_type": "code",
   "execution_count": null,
   "source": [
    "fig, axs = plt.subplots(10, 1, figsize=(5, 15))\r\n",
    "ax_bound = axis_bounds(np.vstack(aligned_mapper.embeddings_))\r\n",
    "for i, ax in enumerate(axs.flatten()):\r\n",
    "    ax.scatter(*aligned_mapper.embeddings_[i].T, c=[1,1,1,1,2,2,2,2], cmap='Spectral')\r\n",
    "    ax.axis(ax_bound)\r\n",
    "plt.tight_layout()\r\n",
    "plt.show()"
   ],
   "outputs": [],
   "metadata": {}
  },
  {
   "cell_type": "code",
   "execution_count": null,
   "source": [
    "aligned_mapper = umap.AlignedUMAP(\r\n",
    "    n_neighbors=3,\r\n",
    "    min_dist = 0.1,\r\n",
    "    n_components = 2,\r\n",
    "    alignment_window_size=4,\r\n",
    "    alignment_regularisation=1e-2,\r\n",
    "    metric='euclidean')\r\n",
    "\r\n",
    "aligned_mapper.fit(distance_matrix_list, relations = relationships)\r\n",
    "\r\n",
    "n_embeddings = len(aligned_mapper.embeddings_)\r\n",
    "es = aligned_mapper.embeddings_\r\n",
    "embedding_df = pd.DataFrame(np.vstack(es), columns=('x', 'y'))\r\n",
    "embedding_df['z'] = np.repeat(np.linspace(0, 1.0, n_embeddings), es[0].shape[0])\r\n",
    "embedding_df['id'] = np.tile(np.arange(es[0].shape[0]), n_embeddings)\r\n",
    "#embedding_df['digit'] = np.tile(digits.target, n_embeddings)\r\n",
    "\r\n",
    "fx = interp1d(\r\n",
    "    embedding_df.z[embedding_df.id == 0], embedding_df.x.values.reshape(n_embeddings, 8).T, kind=\"cubic\"\r\n",
    ")\r\n",
    "fy = interp1d(\r\n",
    "    embedding_df.z[embedding_df.id == 0], embedding_df.y.values.reshape(n_embeddings, 8).T, kind=\"cubic\"\r\n",
    ")\r\n",
    "z = np.linspace(0, 1.0, 100)\r\n",
    "\r\n",
    "palette = px.colors.diverging.Spectral\r\n",
    "interpolated_traces = [fx(z), fy(z)]\r\n",
    "traces = [\r\n",
    "    go.Scatter3d(\r\n",
    "        x=interpolated_traces[0][i],\r\n",
    "        y=interpolated_traces[1][i],\r\n",
    "        z=z*3.0,\r\n",
    "        mode=\"lines\",\r\n",
    "        # line=dict(\r\n",
    "        #     color=palette[digits.target[i]],\r\n",
    "        #     width=3.0\r\n",
    "        # ),\r\n",
    "        opacity=1.0,\r\n",
    "    )\r\n",
    "    for i in range(8)\r\n",
    "]\r\n",
    "fig = go.Figure(data=traces)\r\n",
    "fig.update_layout(\r\n",
    "    width=800,\r\n",
    "    height=700,\r\n",
    "    autosize=False,\r\n",
    "    showlegend=False,\r\n",
    ")\r\n",
    "fig.show()"
   ],
   "outputs": [],
   "metadata": {}
  },
  {
   "cell_type": "code",
   "execution_count": null,
   "source": [],
   "outputs": [],
   "metadata": {}
  }
 ],
 "metadata": {
  "orig_nbformat": 4,
  "language_info": {
   "name": "python",
   "version": "3.9.6",
   "mimetype": "text/x-python",
   "codemirror_mode": {
    "name": "ipython",
    "version": 3
   },
   "pygments_lexer": "ipython3",
   "nbconvert_exporter": "python",
   "file_extension": ".py"
  },
  "kernelspec": {
   "name": "python3",
   "display_name": "Python 3.9.6 64-bit ('aligned-umap': conda)"
  },
  "interpreter": {
   "hash": "3425ee664723cd5c18592cea4a33932d68ca70e96067edda14544bf3cb99baa1"
  }
 },
 "nbformat": 4,
 "nbformat_minor": 2
}